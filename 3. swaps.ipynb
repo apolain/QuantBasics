{
 "cells": [
  {
   "cell_type": "markdown",
   "metadata": {},
   "source": [
    "# Swaps"
   ]
  },
  {
   "cell_type": "markdown",
   "metadata": {
    "vscode": {
     "languageId": "plaintext"
    }
   },
   "source": [
    "### 1. FRA"
   ]
  },
  {
   "cell_type": "code",
   "execution_count": null,
   "metadata": {},
   "outputs": [],
   "source": []
  },
  {
   "cell_type": "markdown",
   "metadata": {
    "vscode": {
     "languageId": "plaintext"
    }
   },
   "source": [
    "### 2. Vanilla swaps"
   ]
  },
  {
   "cell_type": "markdown",
   "metadata": {
    "vscode": {
     "languageId": "plaintext"
    }
   },
   "source": [
    "An interest rate swap is a financial contract in which two parties exchange future payments based on a notional amount, usually one paying a fixed rate and the other a floating rate, often linked to a market index such as Euribor. <br>\n",
    "It is mainly used to manage interest-rate risk, enabling one party to convert its exposure to a floating rate into a fixed rate, or vice versa, according to its financial management needs. The payments exchanged are calculated on the basis of the agreed rates, without exchanging the principal amount.\n"
   ]
  },
  {
   "cell_type": "markdown",
   "metadata": {
    "vscode": {
     "languageId": "plaintext"
    }
   },
   "source": [
    "We wish to value a swap with nominal $N > 0$. The swap has maturity $T > 0$ and $m \\in \\mathbb{N}$ swaps take place on dates $t \\in \\{t_1, t_2, ..., t_m\\}$. In the following, we denote the sequence $(\\delta_i)_{i \\geq 0} = (t_i - t_{i-1})_{i \\geq 0}$. The fixed leg has the following characteristics:\n",
    "<ul>\n",
    "    <li>\n",
    "        Let r > 0 be the fixed rate exchanged on entering the swap. \n",
    "    </li>\n",
    "    <li>\n",
    "        Let B(0, t) be the discount factor (zero coupon of nominal 1). \n",
    "    </li>\n",
    "</ul>\n",
    "\n",
    "$B(0, t)$ is such that:\n",
    "\n",
    "$$B(0, t) = e^{-R(0, t) t}$$ \n",
    "\n",
    "where $R(0, t)$ is the zero-coupon rate. <br><br>\n",
    "\n",
    "Finally, the floating leg is based on a market-observable index and for $i \\in \\{1, ..., m\\}$ we note $L(0, t_{i-1}, t_i)$ the forward rate at $t_{i-1}$ with maturity $t_i$ estimated now (at time 0)."
   ]
  },
  {
   "cell_type": "markdown",
   "metadata": {},
   "source": [
    "The present value of the fixed and variable legs is then given by the following formulae:\n",
    "\n",
    "$P_{FixedLeg} = r N \\sum\\limits_{i=1}^m \\delta_i B(0, t_i)$ and $P_{FloatingLeg} = N \\sum\\limits_{i=1}^m \\delta_i L(0, t_{i-1}, t_i) B(0, t_i)$\n",
    "\n",
    "And the swap rate $r$ is calculated as the rate that equalizes the value of the fixed and variable legs when the swap is issued. The swap price is therefore given by:\n",
    "\n",
    "$$ P_{IRS} = N (r \\sum\\limits_{i=1}^m \\delta_i B(0, t_i) - \\sum\\limits_{i=1}^m \\delta_i L(0, t_{i-1}, t_i) B(0, t_i))$$"
   ]
  },
  {
   "cell_type": "code",
   "execution_count": null,
   "metadata": {},
   "outputs": [],
   "source": [
    "class LinearInterpolator:\n",
    "    def interpolate(self, x, x1, y1, x2, y2):\n",
    "        \"\"\"\n",
    "        Interpole linéairement la valeur y pour une valeur x donnée\n",
    "        entre les deux points (x1, y1) et (x2, y2).\n",
    "        \"\"\"\n",
    "        if self.x1 == self.x2:\n",
    "            raise ValueError(\n",
    "                \"Les points d'entrée doivent avoir des x différents pour l'interpolation.\"\n",
    "            )\n",
    "\n",
    "        y = self.y1 + (x - self.x1) * (self.y2 - self.y1) / (self.x2 - self.x1)\n",
    "        return y"
   ]
  },
  {
   "cell_type": "code",
   "execution_count": 19,
   "metadata": {},
   "outputs": [],
   "source": [
    "class ZCCurve:\n",
    "    def __init__(self, tenors, rates) -> None:\n",
    "        self._tenors = tenors\n",
    "        self._rates = rates\n",
    "\n",
    "        self._curve = {tenor: rate for tenor, rate in zip(tenors, rates)}\n",
    "\n",
    "    def __call__(self, tenor):\n",
    "        if tenor in self._curve.keys():\n",
    "            return self._curve[tenor]\n",
    "        else:\n",
    "            raise NotImplemented"
   ]
  },
  {
   "cell_type": "code",
   "execution_count": 20,
   "metadata": {},
   "outputs": [
    {
     "data": {
      "text/plain": [
       "0.04"
      ]
     },
     "execution_count": 20,
     "metadata": {},
     "output_type": "execute_result"
    }
   ],
   "source": [
    "zc_curve = ZCCurve([1 / 2, 1.0, 3 / 2, 2.0], [0.01, 0.012, 0.0145, 0.04])\n",
    "zc_curve(2)"
   ]
  },
  {
   "cell_type": "code",
   "execution_count": null,
   "metadata": {},
   "outputs": [],
   "source": [
    "class ZCBond:\n",
    "    def __init__(self, payment_dates, zc_curve) -> None:\n",
    "        self._zc_curve = zc_curve\n",
    "        self._payment_dates = payment_dates\n",
    "\n",
    "    def value(self):\n",
    "        return "
   ]
  },
  {
   "cell_type": "code",
   "execution_count": 24,
   "metadata": {},
   "outputs": [],
   "source": [
    "zc_bond = ZCBond([1 / 2, 3 / 2], zc_curve)"
   ]
  },
  {
   "cell_type": "code",
   "execution_count": 2,
   "metadata": {},
   "outputs": [],
   "source": [
    "class IRSwap:\n",
    "    def __init__(self) -> None:\n",
    "        pass"
   ]
  },
  {
   "cell_type": "code",
   "execution_count": null,
   "metadata": {},
   "outputs": [],
   "source": []
  },
  {
   "cell_type": "code",
   "execution_count": null,
   "metadata": {},
   "outputs": [],
   "source": []
  },
  {
   "cell_type": "code",
   "execution_count": null,
   "metadata": {},
   "outputs": [],
   "source": []
  }
 ],
 "metadata": {
  "kernelspec": {
   "display_name": "Python 3",
   "language": "python",
   "name": "python3"
  },
  "language_info": {
   "codemirror_mode": {
    "name": "ipython",
    "version": 3
   },
   "file_extension": ".py",
   "mimetype": "text/x-python",
   "name": "python",
   "nbconvert_exporter": "python",
   "pygments_lexer": "ipython3",
   "version": "3.10.12"
  }
 },
 "nbformat": 4,
 "nbformat_minor": 2
}
